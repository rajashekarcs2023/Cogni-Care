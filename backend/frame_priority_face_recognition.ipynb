{
  "cells": [
    {
      "cell_type": "code",
      "execution_count": 3,
      "metadata": {
        "id": "wzt4DhVpzK6n"
      },
      "outputs": [],
      "source": [
        "\"\"\"Importing libraries\"\"\"\n",
        "import cv2\n",
        "import numpy as np"
      ]
    },
    {
      "cell_type": "code",
      "source": [
        "!pip install SpeechRecognition\n",
        "!pip install face-recognition"
      ],
      "metadata": {
        "colab": {
          "base_uri": "https://localhost:8080/"
        },
        "id": "ydQQhWOoQQQ6",
        "outputId": "a49291a5-0952-4140-ecee-26e97f7d4dab"
      },
      "execution_count": 2,
      "outputs": [
        {
          "output_type": "stream",
          "name": "stdout",
          "text": [
            "Collecting SpeechRecognition\n",
            "  Downloading SpeechRecognition-3.10.0-py2.py3-none-any.whl (32.8 MB)\n",
            "\u001b[2K     \u001b[90m━━━━━━━━━━━━━━━━━━━━━━━━━━━━━━━━━━━━━━━━\u001b[0m \u001b[32m32.8/32.8 MB\u001b[0m \u001b[31m50.7 MB/s\u001b[0m eta \u001b[36m0:00:00\u001b[0m\n",
            "\u001b[?25hRequirement already satisfied: requests>=2.26.0 in /usr/local/lib/python3.10/dist-packages (from SpeechRecognition) (2.31.0)\n",
            "Requirement already satisfied: charset-normalizer<4,>=2 in /usr/local/lib/python3.10/dist-packages (from requests>=2.26.0->SpeechRecognition) (3.3.2)\n",
            "Requirement already satisfied: idna<4,>=2.5 in /usr/local/lib/python3.10/dist-packages (from requests>=2.26.0->SpeechRecognition) (3.4)\n",
            "Requirement already satisfied: urllib3<3,>=1.21.1 in /usr/local/lib/python3.10/dist-packages (from requests>=2.26.0->SpeechRecognition) (2.0.7)\n",
            "Requirement already satisfied: certifi>=2017.4.17 in /usr/local/lib/python3.10/dist-packages (from requests>=2.26.0->SpeechRecognition) (2023.7.22)\n",
            "Installing collected packages: SpeechRecognition\n",
            "Successfully installed SpeechRecognition-3.10.0\n"
          ]
        }
      ]
    },
    {
      "cell_type": "code",
      "source": [
        "### Code to split a video into chunks of 10 secs each\n",
        "\n",
        "import os\n",
        "import json\n",
        "from moviepy.video.io.VideoFileClip import VideoFileClip\n",
        "import speech_recognition as sr\n",
        "\n",
        "def split_and_save_video_chunks(video_path, chunk_length, output_dir):\n",
        "    with VideoFileClip(video_path) as video:\n",
        "        duration = int(video.duration)\n",
        "        for i in range(0, duration, chunk_length):\n",
        "            start = i\n",
        "            end = min(i + chunk_length, duration)\n",
        "            chunk = video.subclip(start, end)\n",
        "            chunk_path = os.path.join(output_dir, f\"chunk_{start:04d}_{end:04d}.mp4\")\n",
        "            chunk.write_videofile(chunk_path, codec=\"libx264\")\n",
        "            yield chunk, start, end\n",
        "\n",
        "def extract_and_transcribe(video_clip, start, end, recognizer, output_dir):\n",
        "    audio_path = os.path.join(output_dir, f\"chunk_{start:04d}_{end:04d}.wav\")\n",
        "    video_clip.audio.write_audiofile(audio_path)\n",
        "\n",
        "    with sr.AudioFile(audio_path) as source:\n",
        "        audio_data = recognizer.record(source)\n",
        "        try:\n",
        "            text = recognizer.recognize_google(audio_data)\n",
        "            return text\n",
        "        except sr.UnknownValueError:\n",
        "            return \"Audio was not understood\"\n",
        "        except sr.RequestError:\n",
        "            return \"Request failed\"\n",
        "\n",
        "def process_videos_in_directory(directory):\n",
        "    recognizer = sr.Recognizer()\n",
        "    for filename in os.listdir(directory):\n",
        "        if filename.endswith((\".mp4\",\".mov\")):\n",
        "            video_path = os.path.join(directory, filename)\n",
        "            video_name = os.path.splitext(filename)[0]\n",
        "            # Creating the output directory outside the input directory\n",
        "            output_dir = os.path.join(directory, video_name + '_chunks')\n",
        "            os.makedirs(output_dir, exist_ok=True)\n",
        "\n",
        "            all_transcripts = {}\n",
        "            for video_clip, start, end in split_and_save_video_chunks(video_path, 10, output_dir):\n",
        "                transcript = extract_and_transcribe(video_clip, start, end, recognizer, output_dir)\n",
        "                all_transcripts[f\"chunk_{start:04d}_{end:04d}\"] = transcript\n",
        "\n",
        "            json_path = os.path.join(output_dir, 'full_transcript.json')\n",
        "            with open(json_path, 'w') as json_file:\n",
        "                json.dump(all_transcripts, json_file, indent=4)\n",
        "\n",
        "            print(f\"Transcription for {video_name} completed and saved in {output_dir}\")\n",
        "\n",
        "# Usage\n",
        "directory_path = \"/content/\"\n",
        "process_videos_in_directory(directory_path)"
      ],
      "metadata": {
        "colab": {
          "base_uri": "https://localhost:8080/"
        },
        "id": "axQZL8UTP34W",
        "outputId": "b74bc802-1d5d-4de1-f1a0-6d68dba6e8c0"
      },
      "execution_count": 4,
      "outputs": [
        {
          "output_type": "stream",
          "name": "stdout",
          "text": [
            "Moviepy - Building video /content/capitalone_chunks/chunk_0000_0010.mp4.\n",
            "MoviePy - Writing audio in chunk_0000_0010TEMP_MPY_wvf_snd.mp3\n"
          ]
        },
        {
          "output_type": "stream",
          "name": "stderr",
          "text": []
        },
        {
          "output_type": "stream",
          "name": "stdout",
          "text": [
            "MoviePy - Done.\n",
            "Moviepy - Writing video /content/capitalone_chunks/chunk_0000_0010.mp4\n",
            "\n"
          ]
        },
        {
          "output_type": "stream",
          "name": "stderr",
          "text": []
        },
        {
          "output_type": "stream",
          "name": "stdout",
          "text": [
            "Moviepy - Done !\n",
            "Moviepy - video ready /content/capitalone_chunks/chunk_0000_0010.mp4\n",
            "MoviePy - Writing audio in /content/capitalone_chunks/chunk_0000_0010.wav\n"
          ]
        },
        {
          "output_type": "stream",
          "name": "stderr",
          "text": []
        },
        {
          "output_type": "stream",
          "name": "stdout",
          "text": [
            "MoviePy - Done.\n",
            "Moviepy - Building video /content/capitalone_chunks/chunk_0010_0020.mp4.\n",
            "MoviePy - Writing audio in chunk_0010_0020TEMP_MPY_wvf_snd.mp3\n"
          ]
        },
        {
          "output_type": "stream",
          "name": "stderr",
          "text": []
        },
        {
          "output_type": "stream",
          "name": "stdout",
          "text": [
            "MoviePy - Done.\n",
            "Moviepy - Writing video /content/capitalone_chunks/chunk_0010_0020.mp4\n",
            "\n"
          ]
        },
        {
          "output_type": "stream",
          "name": "stderr",
          "text": []
        },
        {
          "output_type": "stream",
          "name": "stdout",
          "text": [
            "Moviepy - Done !\n",
            "Moviepy - video ready /content/capitalone_chunks/chunk_0010_0020.mp4\n",
            "MoviePy - Writing audio in /content/capitalone_chunks/chunk_0010_0020.wav\n"
          ]
        },
        {
          "output_type": "stream",
          "name": "stderr",
          "text": []
        },
        {
          "output_type": "stream",
          "name": "stdout",
          "text": [
            "MoviePy - Done.\n",
            "Moviepy - Building video /content/capitalone_chunks/chunk_0020_0030.mp4.\n",
            "MoviePy - Writing audio in chunk_0020_0030TEMP_MPY_wvf_snd.mp3\n"
          ]
        },
        {
          "output_type": "stream",
          "name": "stderr",
          "text": []
        },
        {
          "output_type": "stream",
          "name": "stdout",
          "text": [
            "MoviePy - Done.\n",
            "Moviepy - Writing video /content/capitalone_chunks/chunk_0020_0030.mp4\n",
            "\n"
          ]
        },
        {
          "output_type": "stream",
          "name": "stderr",
          "text": []
        },
        {
          "output_type": "stream",
          "name": "stdout",
          "text": [
            "Moviepy - Done !\n",
            "Moviepy - video ready /content/capitalone_chunks/chunk_0020_0030.mp4\n",
            "MoviePy - Writing audio in /content/capitalone_chunks/chunk_0020_0030.wav\n"
          ]
        },
        {
          "output_type": "stream",
          "name": "stderr",
          "text": []
        },
        {
          "output_type": "stream",
          "name": "stdout",
          "text": [
            "MoviePy - Done.\n",
            "Moviepy - Building video /content/capitalone_chunks/chunk_0030_0040.mp4.\n",
            "MoviePy - Writing audio in chunk_0030_0040TEMP_MPY_wvf_snd.mp3\n"
          ]
        },
        {
          "output_type": "stream",
          "name": "stderr",
          "text": []
        },
        {
          "output_type": "stream",
          "name": "stdout",
          "text": [
            "MoviePy - Done.\n",
            "Moviepy - Writing video /content/capitalone_chunks/chunk_0030_0040.mp4\n",
            "\n"
          ]
        },
        {
          "output_type": "stream",
          "name": "stderr",
          "text": []
        },
        {
          "output_type": "stream",
          "name": "stdout",
          "text": [
            "Moviepy - Done !\n",
            "Moviepy - video ready /content/capitalone_chunks/chunk_0030_0040.mp4\n",
            "MoviePy - Writing audio in /content/capitalone_chunks/chunk_0030_0040.wav\n"
          ]
        },
        {
          "output_type": "stream",
          "name": "stderr",
          "text": []
        },
        {
          "output_type": "stream",
          "name": "stdout",
          "text": [
            "MoviePy - Done.\n",
            "Moviepy - Building video /content/capitalone_chunks/chunk_0040_0050.mp4.\n",
            "MoviePy - Writing audio in chunk_0040_0050TEMP_MPY_wvf_snd.mp3\n"
          ]
        },
        {
          "output_type": "stream",
          "name": "stderr",
          "text": []
        },
        {
          "output_type": "stream",
          "name": "stdout",
          "text": [
            "MoviePy - Done.\n",
            "Moviepy - Writing video /content/capitalone_chunks/chunk_0040_0050.mp4\n",
            "\n"
          ]
        },
        {
          "output_type": "stream",
          "name": "stderr",
          "text": []
        },
        {
          "output_type": "stream",
          "name": "stdout",
          "text": [
            "Moviepy - Done !\n",
            "Moviepy - video ready /content/capitalone_chunks/chunk_0040_0050.mp4\n",
            "MoviePy - Writing audio in /content/capitalone_chunks/chunk_0040_0050.wav\n"
          ]
        },
        {
          "output_type": "stream",
          "name": "stderr",
          "text": []
        },
        {
          "output_type": "stream",
          "name": "stdout",
          "text": [
            "MoviePy - Done.\n",
            "Moviepy - Building video /content/capitalone_chunks/chunk_0050_0054.mp4.\n",
            "MoviePy - Writing audio in chunk_0050_0054TEMP_MPY_wvf_snd.mp3\n"
          ]
        },
        {
          "output_type": "stream",
          "name": "stderr",
          "text": []
        },
        {
          "output_type": "stream",
          "name": "stdout",
          "text": [
            "MoviePy - Done.\n",
            "Moviepy - Writing video /content/capitalone_chunks/chunk_0050_0054.mp4\n",
            "\n"
          ]
        },
        {
          "output_type": "stream",
          "name": "stderr",
          "text": []
        },
        {
          "output_type": "stream",
          "name": "stdout",
          "text": [
            "Moviepy - Done !\n",
            "Moviepy - video ready /content/capitalone_chunks/chunk_0050_0054.mp4\n",
            "MoviePy - Writing audio in /content/capitalone_chunks/chunk_0050_0054.wav\n"
          ]
        },
        {
          "output_type": "stream",
          "name": "stderr",
          "text": []
        },
        {
          "output_type": "stream",
          "name": "stdout",
          "text": [
            "MoviePy - Done.\n",
            "Transcription for capitalone completed and saved in /content/capitalone_chunks\n",
            "Moviepy - Building video /content/lunch_chunks/chunk_0000_0010.mp4.\n",
            "MoviePy - Writing audio in chunk_0000_0010TEMP_MPY_wvf_snd.mp3\n"
          ]
        },
        {
          "output_type": "stream",
          "name": "stderr",
          "text": []
        },
        {
          "output_type": "stream",
          "name": "stdout",
          "text": [
            "MoviePy - Done.\n",
            "Moviepy - Writing video /content/lunch_chunks/chunk_0000_0010.mp4\n",
            "\n"
          ]
        },
        {
          "output_type": "stream",
          "name": "stderr",
          "text": []
        },
        {
          "output_type": "stream",
          "name": "stdout",
          "text": [
            "Moviepy - Done !\n",
            "Moviepy - video ready /content/lunch_chunks/chunk_0000_0010.mp4\n",
            "MoviePy - Writing audio in /content/lunch_chunks/chunk_0000_0010.wav\n"
          ]
        },
        {
          "output_type": "stream",
          "name": "stderr",
          "text": []
        },
        {
          "output_type": "stream",
          "name": "stdout",
          "text": [
            "MoviePy - Done.\n",
            "Moviepy - Building video /content/lunch_chunks/chunk_0010_0020.mp4.\n",
            "MoviePy - Writing audio in chunk_0010_0020TEMP_MPY_wvf_snd.mp3\n"
          ]
        },
        {
          "output_type": "stream",
          "name": "stderr",
          "text": []
        },
        {
          "output_type": "stream",
          "name": "stdout",
          "text": [
            "MoviePy - Done.\n",
            "Moviepy - Writing video /content/lunch_chunks/chunk_0010_0020.mp4\n",
            "\n"
          ]
        },
        {
          "output_type": "stream",
          "name": "stderr",
          "text": []
        },
        {
          "output_type": "stream",
          "name": "stdout",
          "text": [
            "Moviepy - Done !\n",
            "Moviepy - video ready /content/lunch_chunks/chunk_0010_0020.mp4\n",
            "MoviePy - Writing audio in /content/lunch_chunks/chunk_0010_0020.wav\n"
          ]
        },
        {
          "output_type": "stream",
          "name": "stderr",
          "text": [
            "                                                                  "
          ]
        },
        {
          "output_type": "stream",
          "name": "stdout",
          "text": [
            "MoviePy - Done.\n"
          ]
        },
        {
          "output_type": "stream",
          "name": "stderr",
          "text": [
            "\r"
          ]
        },
        {
          "output_type": "stream",
          "name": "stdout",
          "text": [
            "Moviepy - Building video /content/lunch_chunks/chunk_0020_0028.mp4.\n",
            "MoviePy - Writing audio in chunk_0020_0028TEMP_MPY_wvf_snd.mp3\n"
          ]
        },
        {
          "output_type": "stream",
          "name": "stderr",
          "text": []
        },
        {
          "output_type": "stream",
          "name": "stdout",
          "text": [
            "MoviePy - Done.\n",
            "Moviepy - Writing video /content/lunch_chunks/chunk_0020_0028.mp4\n",
            "\n"
          ]
        },
        {
          "output_type": "stream",
          "name": "stderr",
          "text": []
        },
        {
          "output_type": "stream",
          "name": "stdout",
          "text": [
            "Moviepy - Done !\n",
            "Moviepy - video ready /content/lunch_chunks/chunk_0020_0028.mp4\n",
            "MoviePy - Writing audio in /content/lunch_chunks/chunk_0020_0028.wav\n"
          ]
        },
        {
          "output_type": "stream",
          "name": "stderr",
          "text": [
            "                                                                  "
          ]
        },
        {
          "output_type": "stream",
          "name": "stdout",
          "text": [
            "MoviePy - Done.\n"
          ]
        },
        {
          "output_type": "stream",
          "name": "stderr",
          "text": [
            "\r"
          ]
        },
        {
          "output_type": "stream",
          "name": "stdout",
          "text": [
            "Transcription for lunch completed and saved in /content/lunch_chunks\n",
            "Moviepy - Building video /content/facerec-test_chunks/chunk_0000_0010.mp4.\n",
            "MoviePy - Writing audio in chunk_0000_0010TEMP_MPY_wvf_snd.mp3\n"
          ]
        },
        {
          "output_type": "stream",
          "name": "stderr",
          "text": []
        },
        {
          "output_type": "stream",
          "name": "stdout",
          "text": [
            "MoviePy - Done.\n",
            "Moviepy - Writing video /content/facerec-test_chunks/chunk_0000_0010.mp4\n",
            "\n"
          ]
        },
        {
          "output_type": "stream",
          "name": "stderr",
          "text": []
        },
        {
          "output_type": "stream",
          "name": "stdout",
          "text": [
            "Moviepy - Done !\n",
            "Moviepy - video ready /content/facerec-test_chunks/chunk_0000_0010.mp4\n",
            "MoviePy - Writing audio in /content/facerec-test_chunks/chunk_0000_0010.wav\n"
          ]
        },
        {
          "output_type": "stream",
          "name": "stderr",
          "text": [
            "                                                                    "
          ]
        },
        {
          "output_type": "stream",
          "name": "stdout",
          "text": [
            "MoviePy - Done.\n"
          ]
        },
        {
          "output_type": "stream",
          "name": "stderr",
          "text": [
            "\r"
          ]
        },
        {
          "output_type": "stream",
          "name": "stdout",
          "text": [
            "Moviepy - Building video /content/facerec-test_chunks/chunk_0010_0012.mp4.\n",
            "MoviePy - Writing audio in chunk_0010_0012TEMP_MPY_wvf_snd.mp3\n"
          ]
        },
        {
          "output_type": "stream",
          "name": "stderr",
          "text": []
        },
        {
          "output_type": "stream",
          "name": "stdout",
          "text": [
            "MoviePy - Done.\n",
            "Moviepy - Writing video /content/facerec-test_chunks/chunk_0010_0012.mp4\n",
            "\n"
          ]
        },
        {
          "output_type": "stream",
          "name": "stderr",
          "text": []
        },
        {
          "output_type": "stream",
          "name": "stdout",
          "text": [
            "Moviepy - Done !\n",
            "Moviepy - video ready /content/facerec-test_chunks/chunk_0010_0012.mp4\n",
            "MoviePy - Writing audio in /content/facerec-test_chunks/chunk_0010_0012.wav\n"
          ]
        },
        {
          "output_type": "stream",
          "name": "stderr",
          "text": [
            "                                                       "
          ]
        },
        {
          "output_type": "stream",
          "name": "stdout",
          "text": [
            "MoviePy - Done.\n"
          ]
        },
        {
          "output_type": "stream",
          "name": "stderr",
          "text": [
            "\r"
          ]
        },
        {
          "output_type": "stream",
          "name": "stdout",
          "text": [
            "Transcription for facerec-test completed and saved in /content/facerec-test_chunks\n",
            "Moviepy - Building video /content/arthritis_chunks/chunk_0000_0010.mp4.\n",
            "MoviePy - Writing audio in chunk_0000_0010TEMP_MPY_wvf_snd.mp3\n"
          ]
        },
        {
          "output_type": "stream",
          "name": "stderr",
          "text": []
        },
        {
          "output_type": "stream",
          "name": "stdout",
          "text": [
            "MoviePy - Done.\n",
            "Moviepy - Writing video /content/arthritis_chunks/chunk_0000_0010.mp4\n",
            "\n"
          ]
        },
        {
          "output_type": "stream",
          "name": "stderr",
          "text": []
        },
        {
          "output_type": "stream",
          "name": "stdout",
          "text": [
            "Moviepy - Done !\n",
            "Moviepy - video ready /content/arthritis_chunks/chunk_0000_0010.mp4\n",
            "MoviePy - Writing audio in /content/arthritis_chunks/chunk_0000_0010.wav\n"
          ]
        },
        {
          "output_type": "stream",
          "name": "stderr",
          "text": [
            "                                                                  "
          ]
        },
        {
          "output_type": "stream",
          "name": "stdout",
          "text": [
            "MoviePy - Done.\n"
          ]
        },
        {
          "output_type": "stream",
          "name": "stderr",
          "text": [
            "\r"
          ]
        },
        {
          "output_type": "stream",
          "name": "stdout",
          "text": [
            "Moviepy - Building video /content/arthritis_chunks/chunk_0010_0020.mp4.\n",
            "MoviePy - Writing audio in chunk_0010_0020TEMP_MPY_wvf_snd.mp3\n"
          ]
        },
        {
          "output_type": "stream",
          "name": "stderr",
          "text": []
        },
        {
          "output_type": "stream",
          "name": "stdout",
          "text": [
            "MoviePy - Done.\n",
            "Moviepy - Writing video /content/arthritis_chunks/chunk_0010_0020.mp4\n",
            "\n"
          ]
        },
        {
          "output_type": "stream",
          "name": "stderr",
          "text": []
        },
        {
          "output_type": "stream",
          "name": "stdout",
          "text": [
            "Moviepy - Done !\n",
            "Moviepy - video ready /content/arthritis_chunks/chunk_0010_0020.mp4\n",
            "MoviePy - Writing audio in /content/arthritis_chunks/chunk_0010_0020.wav\n"
          ]
        },
        {
          "output_type": "stream",
          "name": "stderr",
          "text": []
        },
        {
          "output_type": "stream",
          "name": "stdout",
          "text": [
            "MoviePy - Done.\n",
            "Moviepy - Building video /content/arthritis_chunks/chunk_0020_0021.mp4.\n",
            "MoviePy - Writing audio in chunk_0020_0021TEMP_MPY_wvf_snd.mp3\n"
          ]
        },
        {
          "output_type": "stream",
          "name": "stderr",
          "text": []
        },
        {
          "output_type": "stream",
          "name": "stdout",
          "text": [
            "MoviePy - Done.\n",
            "Moviepy - Writing video /content/arthritis_chunks/chunk_0020_0021.mp4\n",
            "\n"
          ]
        },
        {
          "output_type": "stream",
          "name": "stderr",
          "text": []
        },
        {
          "output_type": "stream",
          "name": "stdout",
          "text": [
            "Moviepy - Done !\n",
            "Moviepy - video ready /content/arthritis_chunks/chunk_0020_0021.mp4\n",
            "MoviePy - Writing audio in /content/arthritis_chunks/chunk_0020_0021.wav\n"
          ]
        },
        {
          "output_type": "stream",
          "name": "stderr",
          "text": [
            "                                                       "
          ]
        },
        {
          "output_type": "stream",
          "name": "stdout",
          "text": [
            "MoviePy - Done.\n"
          ]
        },
        {
          "output_type": "stream",
          "name": "stderr",
          "text": [
            "\r"
          ]
        },
        {
          "output_type": "stream",
          "name": "stdout",
          "text": [
            "Transcription for arthritis completed and saved in /content/arthritis_chunks\n",
            "Moviepy - Building video /content/pills_chunks/chunk_0000_0008.mp4.\n",
            "MoviePy - Writing audio in chunk_0000_0008TEMP_MPY_wvf_snd.mp3\n"
          ]
        },
        {
          "output_type": "stream",
          "name": "stderr",
          "text": []
        },
        {
          "output_type": "stream",
          "name": "stdout",
          "text": [
            "MoviePy - Done.\n",
            "Moviepy - Writing video /content/pills_chunks/chunk_0000_0008.mp4\n",
            "\n"
          ]
        },
        {
          "output_type": "stream",
          "name": "stderr",
          "text": []
        },
        {
          "output_type": "stream",
          "name": "stdout",
          "text": [
            "Moviepy - Done !\n",
            "Moviepy - video ready /content/pills_chunks/chunk_0000_0008.mp4\n",
            "MoviePy - Writing audio in /content/pills_chunks/chunk_0000_0008.wav\n"
          ]
        },
        {
          "output_type": "stream",
          "name": "stderr",
          "text": [
            "                                                                    "
          ]
        },
        {
          "output_type": "stream",
          "name": "stdout",
          "text": [
            "MoviePy - Done.\n"
          ]
        },
        {
          "output_type": "stream",
          "name": "stderr",
          "text": [
            "\r"
          ]
        },
        {
          "output_type": "stream",
          "name": "stdout",
          "text": [
            "Transcription for pills completed and saved in /content/pills_chunks\n",
            "Moviepy - Building video /content/optimize_chunks/chunk_0000_0010.mp4.\n",
            "MoviePy - Writing audio in chunk_0000_0010TEMP_MPY_wvf_snd.mp3\n"
          ]
        },
        {
          "output_type": "stream",
          "name": "stderr",
          "text": []
        },
        {
          "output_type": "stream",
          "name": "stdout",
          "text": [
            "MoviePy - Done.\n",
            "Moviepy - Writing video /content/optimize_chunks/chunk_0000_0010.mp4\n",
            "\n"
          ]
        },
        {
          "output_type": "stream",
          "name": "stderr",
          "text": []
        },
        {
          "output_type": "stream",
          "name": "stdout",
          "text": [
            "Moviepy - Done !\n",
            "Moviepy - video ready /content/optimize_chunks/chunk_0000_0010.mp4\n",
            "MoviePy - Writing audio in /content/optimize_chunks/chunk_0000_0010.wav\n"
          ]
        },
        {
          "output_type": "stream",
          "name": "stderr",
          "text": []
        },
        {
          "output_type": "stream",
          "name": "stdout",
          "text": [
            "MoviePy - Done.\n",
            "Moviepy - Building video /content/optimize_chunks/chunk_0010_0020.mp4.\n",
            "MoviePy - Writing audio in chunk_0010_0020TEMP_MPY_wvf_snd.mp3\n"
          ]
        },
        {
          "output_type": "stream",
          "name": "stderr",
          "text": []
        },
        {
          "output_type": "stream",
          "name": "stdout",
          "text": [
            "MoviePy - Done.\n",
            "Moviepy - Writing video /content/optimize_chunks/chunk_0010_0020.mp4\n",
            "\n"
          ]
        },
        {
          "output_type": "stream",
          "name": "stderr",
          "text": []
        },
        {
          "output_type": "stream",
          "name": "stdout",
          "text": [
            "Moviepy - Done !\n",
            "Moviepy - video ready /content/optimize_chunks/chunk_0010_0020.mp4\n",
            "MoviePy - Writing audio in /content/optimize_chunks/chunk_0010_0020.wav\n"
          ]
        },
        {
          "output_type": "stream",
          "name": "stderr",
          "text": []
        },
        {
          "output_type": "stream",
          "name": "stdout",
          "text": [
            "MoviePy - Done.\n",
            "Moviepy - Building video /content/optimize_chunks/chunk_0020_0030.mp4.\n",
            "MoviePy - Writing audio in chunk_0020_0030TEMP_MPY_wvf_snd.mp3\n"
          ]
        },
        {
          "output_type": "stream",
          "name": "stderr",
          "text": []
        },
        {
          "output_type": "stream",
          "name": "stdout",
          "text": [
            "MoviePy - Done.\n",
            "Moviepy - Writing video /content/optimize_chunks/chunk_0020_0030.mp4\n",
            "\n"
          ]
        },
        {
          "output_type": "stream",
          "name": "stderr",
          "text": []
        },
        {
          "output_type": "stream",
          "name": "stdout",
          "text": [
            "Moviepy - Done !\n",
            "Moviepy - video ready /content/optimize_chunks/chunk_0020_0030.mp4\n",
            "MoviePy - Writing audio in /content/optimize_chunks/chunk_0020_0030.wav\n"
          ]
        },
        {
          "output_type": "stream",
          "name": "stderr",
          "text": []
        },
        {
          "output_type": "stream",
          "name": "stdout",
          "text": [
            "MoviePy - Done.\n",
            "Moviepy - Building video /content/optimize_chunks/chunk_0030_0040.mp4.\n",
            "MoviePy - Writing audio in chunk_0030_0040TEMP_MPY_wvf_snd.mp3\n"
          ]
        },
        {
          "output_type": "stream",
          "name": "stderr",
          "text": []
        },
        {
          "output_type": "stream",
          "name": "stdout",
          "text": [
            "MoviePy - Done.\n",
            "Moviepy - Writing video /content/optimize_chunks/chunk_0030_0040.mp4\n",
            "\n"
          ]
        },
        {
          "output_type": "stream",
          "name": "stderr",
          "text": []
        },
        {
          "output_type": "stream",
          "name": "stdout",
          "text": [
            "Moviepy - Done !\n",
            "Moviepy - video ready /content/optimize_chunks/chunk_0030_0040.mp4\n",
            "MoviePy - Writing audio in /content/optimize_chunks/chunk_0030_0040.wav\n"
          ]
        },
        {
          "output_type": "stream",
          "name": "stderr",
          "text": []
        },
        {
          "output_type": "stream",
          "name": "stdout",
          "text": [
            "MoviePy - Done.\n",
            "Moviepy - Building video /content/optimize_chunks/chunk_0040_0050.mp4.\n",
            "MoviePy - Writing audio in chunk_0040_0050TEMP_MPY_wvf_snd.mp3\n"
          ]
        },
        {
          "output_type": "stream",
          "name": "stderr",
          "text": []
        },
        {
          "output_type": "stream",
          "name": "stdout",
          "text": [
            "MoviePy - Done.\n",
            "Moviepy - Writing video /content/optimize_chunks/chunk_0040_0050.mp4\n",
            "\n"
          ]
        },
        {
          "output_type": "stream",
          "name": "stderr",
          "text": []
        },
        {
          "output_type": "stream",
          "name": "stdout",
          "text": [
            "Moviepy - Done !\n",
            "Moviepy - video ready /content/optimize_chunks/chunk_0040_0050.mp4\n",
            "MoviePy - Writing audio in /content/optimize_chunks/chunk_0040_0050.wav\n"
          ]
        },
        {
          "output_type": "stream",
          "name": "stderr",
          "text": []
        },
        {
          "output_type": "stream",
          "name": "stdout",
          "text": [
            "MoviePy - Done.\n",
            "Moviepy - Building video /content/optimize_chunks/chunk_0050_0060.mp4.\n",
            "MoviePy - Writing audio in chunk_0050_0060TEMP_MPY_wvf_snd.mp3\n"
          ]
        },
        {
          "output_type": "stream",
          "name": "stderr",
          "text": []
        },
        {
          "output_type": "stream",
          "name": "stdout",
          "text": [
            "MoviePy - Done.\n",
            "Moviepy - Writing video /content/optimize_chunks/chunk_0050_0060.mp4\n",
            "\n"
          ]
        },
        {
          "output_type": "stream",
          "name": "stderr",
          "text": []
        },
        {
          "output_type": "stream",
          "name": "stdout",
          "text": [
            "Moviepy - Done !\n",
            "Moviepy - video ready /content/optimize_chunks/chunk_0050_0060.mp4\n",
            "MoviePy - Writing audio in /content/optimize_chunks/chunk_0050_0060.wav\n"
          ]
        },
        {
          "output_type": "stream",
          "name": "stderr",
          "text": []
        },
        {
          "output_type": "stream",
          "name": "stdout",
          "text": [
            "MoviePy - Done.\n",
            "Moviepy - Building video /content/optimize_chunks/chunk_0060_0063.mp4.\n",
            "MoviePy - Writing audio in chunk_0060_0063TEMP_MPY_wvf_snd.mp3\n"
          ]
        },
        {
          "output_type": "stream",
          "name": "stderr",
          "text": []
        },
        {
          "output_type": "stream",
          "name": "stdout",
          "text": [
            "MoviePy - Done.\n",
            "Moviepy - Writing video /content/optimize_chunks/chunk_0060_0063.mp4\n",
            "\n"
          ]
        },
        {
          "output_type": "stream",
          "name": "stderr",
          "text": []
        },
        {
          "output_type": "stream",
          "name": "stdout",
          "text": [
            "Moviepy - Done !\n",
            "Moviepy - video ready /content/optimize_chunks/chunk_0060_0063.mp4\n",
            "MoviePy - Writing audio in /content/optimize_chunks/chunk_0060_0063.wav\n"
          ]
        },
        {
          "output_type": "stream",
          "name": "stderr",
          "text": [
            "                                                       "
          ]
        },
        {
          "output_type": "stream",
          "name": "stdout",
          "text": [
            "MoviePy - Done.\n"
          ]
        },
        {
          "output_type": "stream",
          "name": "stderr",
          "text": [
            "\r"
          ]
        },
        {
          "output_type": "stream",
          "name": "stdout",
          "text": [
            "Transcription for optimize completed and saved in /content/optimize_chunks\n"
          ]
        }
      ]
    },
    {
      "cell_type": "code",
      "execution_count": null,
      "metadata": {
        "scrolled": false,
        "id": "nzMkwC1gzK6p"
      },
      "outputs": [],
      "source": [
        "### This script processes video files to extract unique frames using ORB (Oriented FAST and Rotated BRIEF) for keypoint detection.\n",
        "### It iterates through video files in specified directories, identifies distinct frames by comparing keypoints, and saves these unique frames as images in a new directory, creating a visual summary of the videos.\n",
        "\n",
        "\"\"\"Importing the video\"\"\"\n",
        "from google.colab.patches import cv2_imshow\n",
        "list1 = ['arthritis','capitalone','facerec-test','lunch','optimize','pills']\n",
        "directory_path = \"/content/\"\n",
        "for entry in os.scandir(directory_path):\n",
        "    if entry.is_dir() and entry.name.endswith(\"_chunks\"):\n",
        "        folder_path = os.path.join(directory_path, entry.name)\n",
        "        for filename in os.listdir(folder_path):\n",
        "            print(filename)\n",
        "            if filename.endswith((\".mp4\", \".mov\")):\n",
        "                video_path = os.path.join(folder_path, filename)\n",
        "\n",
        "                video_name, _ = os.path.splitext(filename)  # _ is used to ignore the extension part\n",
        "\n",
        "          # Creating the output directory outside the input directory\n",
        "#           output_dir = os.path.join(directory, '..', video_name + '_chunks')\n",
        "                print(video_path)\n",
        "                capture = cv2.VideoCapture(f'{video_path}')\n",
        "\n",
        "                \"\"\"Images array store the frame nos\"\"\"\n",
        "                images = np.asarray([])\n",
        "                ret, frame = capture.read()\n",
        "                cap,cap2 = 0,0\n",
        "                start = np.asarray((500,32))\n",
        "\n",
        "                \"\"\"Looping through all the frames to find the unique ones,\n",
        "                we have used ORB a modified sift method for detection of keypoints in a particular frame\n",
        "                and compared those to the other frames keypoints to discover the unique frames.\"\"\"\n",
        "                cnt = 0\n",
        "                new_width = 600\n",
        "                new_height = 400\n",
        "                while(ret):\n",
        "                    frame2 = frame\n",
        "                    frame = cv2.cvtColor(frame,cv2.COLOR_BGR2GRAY)\n",
        "\n",
        "                    orb = cv2.ORB_create()\n",
        "                    kp = orb.detect(frame,None)\n",
        "                    kp, des = orb.compute(frame,kp)\n",
        "\n",
        "                    if des is None:\n",
        "                        ret, frame = capture.read()\n",
        "                        if cap2 == 0:\n",
        "                            images = np.append(images,cap2)\n",
        "                        if start is not None:\n",
        "                            images = np.append(images,cap2)\n",
        "                            start = None\n",
        "                        cap2 += 1\n",
        "                        continue\n",
        "\n",
        "                    if cap == 0 :\n",
        "                        start = des\n",
        "                        images = np.append(images,cap2)\n",
        "                        cnt +=1\n",
        "\n",
        "                        if not os.path.exists(f'/content/snips/{entry.name}/{video_name}'):\n",
        "                            # Create the folder\n",
        "                            os.makedirs(f'/content/snips/{entry.name}/{video_name}')\n",
        "\n",
        "                        filename = f\"/content/snips/{entry.name}/{video_name}/{cnt}.jpg\"\n",
        "\n",
        "\n",
        "                        # Resize the image\n",
        "                        frame2 = cv2.resize(frame2, (new_width, new_height))\n",
        "                        cv2.imwrite(filename, frame2)\n",
        "                        # cv2_imshow(frame2)\n",
        "                    elif start.shape != des.shape :\n",
        "                        s = 0\n",
        "                        for i in range(min(start.shape[0],des.shape[0])):\n",
        "                            s += np.sum(np.equal(start[i],des[i]))\n",
        "                        if s < 200:\n",
        "                            start = des\n",
        "                            images = np.append(images,cap2)\n",
        "                            cnt +=1\n",
        "                            if not os.path.exists(f'/content/snips/{entry.name}/{video_name}'):\n",
        "                            # Create the folder\n",
        "                                os.makedirs(f'/content/snips/{entry.name}/{video_name}')\n",
        "\n",
        "                            filename = f\"/content/snips/{entry.name}/{video_name}/{cnt}.jpg\"\n",
        "                            frame2 = cv2.resize(frame2, (new_width, new_height))\n",
        "                            cv2.imwrite(filename, frame2)\n",
        "                            # cv2_imshow(frame2)\n",
        "                    else:\n",
        "                        s = np.sum(np.equal(start,des))\n",
        "                        if s < 110:\n",
        "                            start = des\n",
        "                            images = np.append(images,cap2)\n",
        "                            cnt +=1\n",
        "                            if not os.path.exists(f'/content/snips/{entry.name}/{video_name}'):\n",
        "                                # Create the folder\n",
        "                                os.makedirs(f'/content/snips/{entry.name}/{video_name}')\n",
        "\n",
        "                            filename = f\"/content/snips/{entry.name}/{video_name}/{cnt}.jpg\"\n",
        "                            frame2 = cv2.resize(frame2, (new_width, new_height))\n",
        "                            cv2.imwrite(filename, frame2)\n",
        "                            # cv2_imshow(frame2)\n",
        "\n",
        "                    ret, frame = capture.read()\n",
        "                    cap += 1\n",
        "                    cap2 += 1\n",
        "\n",
        "                cv2.destroyAllWindows()\n",
        "                capture.release()"
      ]
    },
    {
      "cell_type": "code",
      "source": [
        "import os\n",
        "import zipfile\n",
        "from google.colab import files\n",
        "\n",
        "def zip_folder(folder_path, output_path):\n",
        "    \"\"\"Compress a folder to a zip file.\"\"\"\n",
        "    with zipfile.ZipFile(output_path, 'w', zipfile.ZIP_DEFLATED) as zipf:\n",
        "        for root, dirs, files in os.walk(folder_path):\n",
        "            for file in files:\n",
        "                file_path = os.path.join(root, file)\n",
        "                zipf.write(file_path, os.path.relpath(file_path, os.path.join(folder_path, '..')))\n",
        "\n",
        "# Specify the path of the folder you want to download\n",
        "folder_path = '/content/snips'  # Replace with your folder path\n",
        "zip_file = '/content/final.zip'\n",
        "\n",
        "# Compress the folder\n",
        "zip_folder(folder_path, zip_file)\n",
        "\n",
        "# Download the compressed folder\n",
        "files.download(zip_file)"
      ],
      "metadata": {
        "colab": {
          "base_uri": "https://localhost:8080/",
          "height": 17
        },
        "id": "rAgT1xGONSKG",
        "outputId": "3eaf9e4e-d749-4457-c26a-e8e7cabb4ee3"
      },
      "execution_count": null,
      "outputs": [
        {
          "output_type": "display_data",
          "data": {
            "text/plain": [
              "<IPython.core.display.Javascript object>"
            ],
            "application/javascript": [
              "\n",
              "    async function download(id, filename, size) {\n",
              "      if (!google.colab.kernel.accessAllowed) {\n",
              "        return;\n",
              "      }\n",
              "      const div = document.createElement('div');\n",
              "      const label = document.createElement('label');\n",
              "      label.textContent = `Downloading \"${filename}\": `;\n",
              "      div.appendChild(label);\n",
              "      const progress = document.createElement('progress');\n",
              "      progress.max = size;\n",
              "      div.appendChild(progress);\n",
              "      document.body.appendChild(div);\n",
              "\n",
              "      const buffers = [];\n",
              "      let downloaded = 0;\n",
              "\n",
              "      const channel = await google.colab.kernel.comms.open(id);\n",
              "      // Send a message to notify the kernel that we're ready.\n",
              "      channel.send({})\n",
              "\n",
              "      for await (const message of channel.messages) {\n",
              "        // Send a message to notify the kernel that we're ready.\n",
              "        channel.send({})\n",
              "        if (message.buffers) {\n",
              "          for (const buffer of message.buffers) {\n",
              "            buffers.push(buffer);\n",
              "            downloaded += buffer.byteLength;\n",
              "            progress.value = downloaded;\n",
              "          }\n",
              "        }\n",
              "      }\n",
              "      const blob = new Blob(buffers, {type: 'application/binary'});\n",
              "      const a = document.createElement('a');\n",
              "      a.href = window.URL.createObjectURL(blob);\n",
              "      a.download = filename;\n",
              "      div.appendChild(a);\n",
              "      a.click();\n",
              "      div.remove();\n",
              "    }\n",
              "  "
            ]
          },
          "metadata": {}
        },
        {
          "output_type": "display_data",
          "data": {
            "text/plain": [
              "<IPython.core.display.Javascript object>"
            ],
            "application/javascript": [
              "download(\"download_1d9d149b-0c3f-4a42-b47a-82d1d43098fd\", \"final.zip\", 10029583)"
            ]
          },
          "metadata": {}
        }
      ]
    },
    {
      "cell_type": "code",
      "execution_count": null,
      "metadata": {
        "colab": {
          "base_uri": "https://localhost:8080/"
        },
        "id": "Jtz5mwH4zK6r",
        "outputId": "6fe6651d-f695-4698-c4b8-0c7f3857be3c"
      },
      "outputs": [
        {
          "output_type": "stream",
          "name": "stdout",
          "text": [
            "The total number of frames :  632 \n",
            "The number of unique frames extracted :  51\n"
          ]
        }
      ],
      "source": [
        "print(\"The total number of frames : \",cap,\"\\nThe number of unique frames extracted : \",len(imagesArr))"
      ]
    },
    {
      "cell_type": "code",
      "source": [
        "### This code block is a Python script for facial recognition in videos; it identifies and\n",
        "### records appearances of known individuals from a predefined list in video files, summarizing the results in JSON format.\n",
        "\n",
        "import face_recognition\n",
        "import cv2\n",
        "import os\n",
        "import numpy as np\n",
        "\n",
        "# Load known face images and create encodings\n",
        "known_faces_encodings = []\n",
        "known_faces_names = []\n",
        "\n",
        "# Load each known face image\n",
        "known_face_files = ['/content/known_faces/biden.jpg', '/content/known_faces/brian.png', '/content/known_faces/krish.jpg', '/content/known_faces/raja.png','/content/known_faces/mike.png','/content/known_faces/sam.png', '/content/known_faces/saurav.jpeg', '/content/known_faces/trump.jpg']\n",
        "for file in known_face_files:\n",
        "    image = face_recognition.load_image_file(file)\n",
        "    encoding = face_recognition.face_encodings(image)[0]\n",
        "    known_faces_encodings.append(encoding)\n",
        "    known_faces_names.append(os.path.splitext(os.path.basename(file))[0])\n",
        "\n",
        "\n",
        "directory_path = \"/content/\"\n",
        "for entry in os.scandir(directory_path):\n",
        "    if entry.is_dir() and entry.name.endswith(\"_chunks\"):\n",
        "        folder_path = os.path.join(directory_path, entry.name)\n",
        "        for filename in os.listdir(folder_path):\n",
        "\n",
        "            if filename.endswith((\".mp4\", \".mov\")):\n",
        "                video_path = os.path.join(folder_path, filename)\n",
        "\n",
        "                video_name, _ = os.path.splitext(filename)  # _ is used to ignore the extension part\n",
        "\n",
        "          # Creating the output directory outside the input directory\n",
        "#           output_dir = os.path.join(directory, '..', video_name + '_chunks')\n",
        "                # Initialize some variables\n",
        "                face_locations = []\n",
        "                face_encodings = []\n",
        "                face_names = []\n",
        "                process_this_frame = True\n",
        "\n",
        "                # Dictionary to hold appearance records\n",
        "                appearance_records = {}\n",
        "                video_capture = cv2.VideoCapture(f'{video_path}')\n",
        "# Open the input video file\n",
        "# video_capture = cv2.VideoCapture('/content/lunch.mp4')\n",
        "                frame_number = 0\n",
        "\n",
        "                # Loop over each frame of the video\n",
        "                while video_capture.isOpened():\n",
        "                    # Grab a single frame of video (and check if it's okay)\n",
        "                    ret, frame = video_capture.read()\n",
        "                    if not ret:\n",
        "                        break\n",
        "\n",
        "                    # Optionally skip frames to speed up processing\n",
        "                    if frame_number % 5 == 0:  # Change 30 to the number of frames you want to skip\n",
        "                        # Convert the image from BGR color (which OpenCV uses) to RGB color (which face_recognition uses)\n",
        "                        # rgb_frame = frame[:, :, ::-1]\n",
        "                        frame = cv2.resize(frame, (0, 0), fx=0.5, fy=0.5)\n",
        "                        # Find all the faces and face encodings in the current frame of video\n",
        "                        face_locations = face_recognition.face_locations(frame)\n",
        "                        face_encodings = face_recognition.face_encodings(frame, face_locations)\n",
        "\n",
        "                        face_names = []\n",
        "                        for face_encoding in face_encodings:\n",
        "                            # See if the face is a match for the known face(s)\n",
        "                            matches = face_recognition.compare_faces(known_faces_encodings, face_encoding, tolerance=0.6)\n",
        "                            name = \"Unknown\"\n",
        "\n",
        "                            # Use the known face with the smallest distance to the new face\n",
        "                            face_distances = face_recognition.face_distance(known_faces_encodings, face_encoding)\n",
        "                            best_match_index = np.argmin(face_distances)\n",
        "                            if matches[best_match_index]:\n",
        "                                name = known_faces_names[best_match_index]\n",
        "\n",
        "                            face_names.append(name)\n",
        "\n",
        "                            # Add the appearance to the records\n",
        "                            if name not in appearance_records:\n",
        "                                appearance_records[name] = []\n",
        "                            appearance_records[name].append(frame_number)\n",
        "\n",
        "                    frame_number += 1\n",
        "\n",
        "                # Release handle to the webcam\n",
        "                video_capture.release()\n",
        "\n",
        "                # Process the appearance records to get a summary\n",
        "                appearance_summary = {name: len(frames) for name, frames in appearance_records.items() if name != \"Unknown\"}\n",
        "\n",
        "                # Print the summary\n",
        "                # for name, count in appearance_summary.items():\n",
        "\n",
        "\n",
        "                appearance_summary\n",
        "\n",
        "                video_appearance_summary = {}\n",
        "\n",
        "\n",
        "                # Extract the chunk identifier from the video path\n",
        "                # chunk_id = video_path.split('/')[-1].replace('.mp4', '')\n",
        "\n",
        "                # # Get the appearance records for the chunk\n",
        "                # appearances = appearance_records.get(chunk_id, {})\n",
        "\n",
        "                # # Filter out the \"Unknown\" key and get the names\n",
        "                names = [name for name in appearance_summary if name != \"Unknown\"]\n",
        "\n",
        "                # Map the video path to the names\n",
        "                video_appearance_summary[video_path] = names\n",
        "\n",
        "                # Convert to JSON\n",
        "                with open(f'/content/{entry.name}_{video_name}.json', 'w') as json_file:\n",
        "                  json.dump(video_appearance_summary, json_file, indent=4)\n",
        "\n",
        "                # # Output the JSON string or save it to a file\n",
        "                # print(json_output)\n"
      ],
      "metadata": {
        "id": "LobzHPsJzrA2"
      },
      "execution_count": null,
      "outputs": []
    },
    {
      "cell_type": "code",
      "source": [],
      "metadata": {
        "id": "svzV8ucnsCpJ"
      },
      "execution_count": null,
      "outputs": []
    }
  ],
  "metadata": {
    "kernelspec": {
      "display_name": "Python 3",
      "name": "python3"
    },
    "language_info": {
      "codemirror_mode": {
        "name": "ipython",
        "version": 3
      },
      "file_extension": ".py",
      "mimetype": "text/x-python",
      "name": "python",
      "nbconvert_exporter": "python",
      "pygments_lexer": "ipython3",
      "version": "3.7.6"
    },
    "colab": {
      "provenance": [],
      "gpuType": "T4"
    },
    "accelerator": "GPU"
  },
  "nbformat": 4,
  "nbformat_minor": 0
}