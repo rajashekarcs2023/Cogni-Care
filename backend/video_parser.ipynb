{
 "cells": [
  {
   "cell_type": "code",
   "execution_count": 2,
   "metadata": {},
   "outputs": [
    {
     "name": "stdout",
     "output_type": "stream",
     "text": [
      "Moviepy - Building video videos\\..\\arthritis_chunks\\chunk_0000_0010.mp4.\n",
      "MoviePy - Writing audio in chunk_0000_0010TEMP_MPY_wvf_snd.mp3\n"
     ]
    },
    {
     "name": "stderr",
     "output_type": "stream",
     "text": [
      "                                                                   \r"
     ]
    },
    {
     "name": "stdout",
     "output_type": "stream",
     "text": [
      "MoviePy - Done.\n",
      "Moviepy - Writing video videos\\..\\arthritis_chunks\\chunk_0000_0010.mp4\n",
      "\n"
     ]
    },
    {
     "name": "stderr",
     "output_type": "stream",
     "text": [
      "                                                              \r"
     ]
    },
    {
     "name": "stdout",
     "output_type": "stream",
     "text": [
      "Moviepy - Done !\n",
      "Moviepy - video ready videos\\..\\arthritis_chunks\\chunk_0000_0010.mp4\n",
      "MoviePy - Writing audio in videos\\..\\arthritis_chunks\\chunk_0000_0010.wav\n"
     ]
    },
    {
     "name": "stderr",
     "output_type": "stream",
     "text": [
      "                                                                "
     ]
    },
    {
     "name": "stdout",
     "output_type": "stream",
     "text": [
      "MoviePy - Done.\n"
     ]
    },
    {
     "name": "stderr",
     "output_type": "stream",
     "text": [
      "\r"
     ]
    },
    {
     "name": "stdout",
     "output_type": "stream",
     "text": [
      "Moviepy - Building video videos\\..\\arthritis_chunks\\chunk_0010_0020.mp4.\n",
      "MoviePy - Writing audio in chunk_0010_0020TEMP_MPY_wvf_snd.mp3\n"
     ]
    },
    {
     "name": "stderr",
     "output_type": "stream",
     "text": [
      "                                                                  \r"
     ]
    },
    {
     "name": "stdout",
     "output_type": "stream",
     "text": [
      "MoviePy - Done.\n",
      "Moviepy - Writing video videos\\..\\arthritis_chunks\\chunk_0010_0020.mp4\n",
      "\n"
     ]
    },
    {
     "name": "stderr",
     "output_type": "stream",
     "text": [
      "                                                              \r"
     ]
    },
    {
     "name": "stdout",
     "output_type": "stream",
     "text": [
      "Moviepy - Done !\n",
      "Moviepy - video ready videos\\..\\arthritis_chunks\\chunk_0010_0020.mp4\n",
      "MoviePy - Writing audio in videos\\..\\arthritis_chunks\\chunk_0010_0020.wav\n"
     ]
    },
    {
     "name": "stderr",
     "output_type": "stream",
     "text": [
      "                                                                \r"
     ]
    },
    {
     "name": "stdout",
     "output_type": "stream",
     "text": [
      "MoviePy - Done.\n",
      "Moviepy - Building video videos\\..\\arthritis_chunks\\chunk_0020_0021.mp4.\n",
      "MoviePy - Writing audio in chunk_0020_0021TEMP_MPY_wvf_snd.mp3\n"
     ]
    },
    {
     "name": "stderr",
     "output_type": "stream",
     "text": [
      "                                                       \r"
     ]
    },
    {
     "name": "stdout",
     "output_type": "stream",
     "text": [
      "MoviePy - Done.\n",
      "Moviepy - Writing video videos\\..\\arthritis_chunks\\chunk_0020_0021.mp4\n",
      "\n"
     ]
    },
    {
     "name": "stderr",
     "output_type": "stream",
     "text": [
      "                                                            \r"
     ]
    },
    {
     "name": "stdout",
     "output_type": "stream",
     "text": [
      "Moviepy - Done !\n",
      "Moviepy - video ready videos\\..\\arthritis_chunks\\chunk_0020_0021.mp4\n",
      "MoviePy - Writing audio in videos\\..\\arthritis_chunks\\chunk_0020_0021.wav\n"
     ]
    },
    {
     "name": "stderr",
     "output_type": "stream",
     "text": [
      "                                                       "
     ]
    },
    {
     "name": "stdout",
     "output_type": "stream",
     "text": [
      "MoviePy - Done.\n"
     ]
    },
    {
     "name": "stderr",
     "output_type": "stream",
     "text": [
      "\r"
     ]
    },
    {
     "name": "stdout",
     "output_type": "stream",
     "text": [
      "Transcription for arthritis completed and saved in videos\\..\\arthritis_chunks\n",
      "Moviepy - Building video videos\\..\\capitalone_chunks\\chunk_0000_0010.mp4.\n",
      "MoviePy - Writing audio in chunk_0000_0010TEMP_MPY_wvf_snd.mp3\n"
     ]
    },
    {
     "name": "stderr",
     "output_type": "stream",
     "text": [
      "                                                                    \r"
     ]
    },
    {
     "name": "stdout",
     "output_type": "stream",
     "text": [
      "MoviePy - Done.\n",
      "Moviepy - Writing video videos\\..\\capitalone_chunks\\chunk_0000_0010.mp4\n",
      "\n"
     ]
    },
    {
     "name": "stderr",
     "output_type": "stream",
     "text": [
      "                                                              \r"
     ]
    },
    {
     "name": "stdout",
     "output_type": "stream",
     "text": [
      "Moviepy - Done !\n",
      "Moviepy - video ready videos\\..\\capitalone_chunks\\chunk_0000_0010.mp4\n",
      "MoviePy - Writing audio in videos\\..\\capitalone_chunks\\chunk_0000_0010.wav\n"
     ]
    },
    {
     "name": "stderr",
     "output_type": "stream",
     "text": [
      "                                                                \r"
     ]
    },
    {
     "name": "stdout",
     "output_type": "stream",
     "text": [
      "MoviePy - Done.\n",
      "Moviepy - Building video videos\\..\\capitalone_chunks\\chunk_0010_0020.mp4.\n",
      "MoviePy - Writing audio in chunk_0010_0020TEMP_MPY_wvf_snd.mp3\n"
     ]
    },
    {
     "name": "stderr",
     "output_type": "stream",
     "text": [
      "                                                                  \r"
     ]
    },
    {
     "name": "stdout",
     "output_type": "stream",
     "text": [
      "MoviePy - Done.\n",
      "Moviepy - Writing video videos\\..\\capitalone_chunks\\chunk_0010_0020.mp4\n",
      "\n"
     ]
    },
    {
     "name": "stderr",
     "output_type": "stream",
     "text": [
      "                                                              \r"
     ]
    },
    {
     "name": "stdout",
     "output_type": "stream",
     "text": [
      "Moviepy - Done !\n",
      "Moviepy - video ready videos\\..\\capitalone_chunks\\chunk_0010_0020.mp4\n",
      "MoviePy - Writing audio in videos\\..\\capitalone_chunks\\chunk_0010_0020.wav\n"
     ]
    },
    {
     "name": "stderr",
     "output_type": "stream",
     "text": [
      "                                                                \r"
     ]
    },
    {
     "name": "stdout",
     "output_type": "stream",
     "text": [
      "MoviePy - Done.\n",
      "Moviepy - Building video videos\\..\\capitalone_chunks\\chunk_0020_0030.mp4.\n",
      "MoviePy - Writing audio in chunk_0020_0030TEMP_MPY_wvf_snd.mp3\n"
     ]
    },
    {
     "name": "stderr",
     "output_type": "stream",
     "text": [
      "                                                                  "
     ]
    },
    {
     "name": "stdout",
     "output_type": "stream",
     "text": [
      "MoviePy - Done.\n",
      "Moviepy - Writing video videos\\..\\capitalone_chunks\\chunk_0020_0030.mp4\n",
      "\n"
     ]
    },
    {
     "name": "stderr",
     "output_type": "stream",
     "text": [
      "                                                              \r"
     ]
    },
    {
     "name": "stdout",
     "output_type": "stream",
     "text": [
      "Moviepy - Done !\n",
      "Moviepy - video ready videos\\..\\capitalone_chunks\\chunk_0020_0030.mp4\n",
      "MoviePy - Writing audio in videos\\..\\capitalone_chunks\\chunk_0020_0030.wav\n"
     ]
    },
    {
     "name": "stderr",
     "output_type": "stream",
     "text": [
      "                                                                \r"
     ]
    },
    {
     "name": "stdout",
     "output_type": "stream",
     "text": [
      "MoviePy - Done.\n",
      "Moviepy - Building video videos\\..\\capitalone_chunks\\chunk_0030_0040.mp4.\n",
      "MoviePy - Writing audio in chunk_0030_0040TEMP_MPY_wvf_snd.mp3\n"
     ]
    },
    {
     "name": "stderr",
     "output_type": "stream",
     "text": [
      "                                                                   \r"
     ]
    },
    {
     "name": "stdout",
     "output_type": "stream",
     "text": [
      "MoviePy - Done.\n",
      "Moviepy - Writing video videos\\..\\capitalone_chunks\\chunk_0030_0040.mp4\n",
      "\n"
     ]
    },
    {
     "name": "stderr",
     "output_type": "stream",
     "text": [
      "                                                              \r"
     ]
    },
    {
     "name": "stdout",
     "output_type": "stream",
     "text": [
      "Moviepy - Done !\n",
      "Moviepy - video ready videos\\..\\capitalone_chunks\\chunk_0030_0040.mp4\n",
      "MoviePy - Writing audio in videos\\..\\capitalone_chunks\\chunk_0030_0040.wav\n"
     ]
    },
    {
     "name": "stderr",
     "output_type": "stream",
     "text": [
      "                                                                \r"
     ]
    },
    {
     "name": "stdout",
     "output_type": "stream",
     "text": [
      "MoviePy - Done.\n",
      "Moviepy - Building video videos\\..\\capitalone_chunks\\chunk_0040_0050.mp4.\n",
      "MoviePy - Writing audio in chunk_0040_0050TEMP_MPY_wvf_snd.mp3\n"
     ]
    },
    {
     "name": "stderr",
     "output_type": "stream",
     "text": [
      "                                                                  \r"
     ]
    },
    {
     "name": "stdout",
     "output_type": "stream",
     "text": [
      "MoviePy - Done.\n",
      "Moviepy - Writing video videos\\..\\capitalone_chunks\\chunk_0040_0050.mp4\n",
      "\n"
     ]
    },
    {
     "name": "stderr",
     "output_type": "stream",
     "text": [
      "                                                              \r"
     ]
    },
    {
     "name": "stdout",
     "output_type": "stream",
     "text": [
      "Moviepy - Done !\n",
      "Moviepy - video ready videos\\..\\capitalone_chunks\\chunk_0040_0050.mp4\n",
      "MoviePy - Writing audio in videos\\..\\capitalone_chunks\\chunk_0040_0050.wav\n"
     ]
    },
    {
     "name": "stderr",
     "output_type": "stream",
     "text": [
      "                                                                \r"
     ]
    },
    {
     "name": "stdout",
     "output_type": "stream",
     "text": [
      "MoviePy - Done.\n",
      "Moviepy - Building video videos\\..\\capitalone_chunks\\chunk_0050_0054.mp4.\n",
      "MoviePy - Writing audio in chunk_0050_0054TEMP_MPY_wvf_snd.mp3\n"
     ]
    },
    {
     "name": "stderr",
     "output_type": "stream",
     "text": [
      "                                                                 \r"
     ]
    },
    {
     "name": "stdout",
     "output_type": "stream",
     "text": [
      "MoviePy - Done.\n",
      "Moviepy - Writing video videos\\..\\capitalone_chunks\\chunk_0050_0054.mp4\n",
      "\n"
     ]
    },
    {
     "name": "stderr",
     "output_type": "stream",
     "text": [
      "                                                              \r"
     ]
    },
    {
     "name": "stdout",
     "output_type": "stream",
     "text": [
      "Moviepy - Done !\n",
      "Moviepy - video ready videos\\..\\capitalone_chunks\\chunk_0050_0054.mp4\n",
      "MoviePy - Writing audio in videos\\..\\capitalone_chunks\\chunk_0050_0054.wav\n"
     ]
    },
    {
     "name": "stderr",
     "output_type": "stream",
     "text": [
      "                                                               \r"
     ]
    },
    {
     "name": "stdout",
     "output_type": "stream",
     "text": [
      "MoviePy - Done.\n",
      "Transcription for capitalone completed and saved in videos\\..\\capitalone_chunks\n",
      "Moviepy - Building video videos\\..\\optimize_chunks\\chunk_0000_0010.mp4.\n",
      "MoviePy - Writing audio in chunk_0000_0010TEMP_MPY_wvf_snd.mp3\n"
     ]
    },
    {
     "name": "stderr",
     "output_type": "stream",
     "text": [
      "                                                                    \r"
     ]
    },
    {
     "name": "stdout",
     "output_type": "stream",
     "text": [
      "MoviePy - Done.\n",
      "Moviepy - Writing video videos\\..\\optimize_chunks\\chunk_0000_0010.mp4\n",
      "\n"
     ]
    },
    {
     "name": "stderr",
     "output_type": "stream",
     "text": [
      "                                                              \r"
     ]
    },
    {
     "name": "stdout",
     "output_type": "stream",
     "text": [
      "Moviepy - Done !\n",
      "Moviepy - video ready videos\\..\\optimize_chunks\\chunk_0000_0010.mp4\n",
      "MoviePy - Writing audio in videos\\..\\optimize_chunks\\chunk_0000_0010.wav\n"
     ]
    },
    {
     "name": "stderr",
     "output_type": "stream",
     "text": [
      "                                                                \r"
     ]
    },
    {
     "name": "stdout",
     "output_type": "stream",
     "text": [
      "MoviePy - Done.\n",
      "Moviepy - Building video videos\\..\\optimize_chunks\\chunk_0010_0020.mp4.\n",
      "MoviePy - Writing audio in chunk_0010_0020TEMP_MPY_wvf_snd.mp3\n"
     ]
    },
    {
     "name": "stderr",
     "output_type": "stream",
     "text": [
      "                                                                  \r"
     ]
    },
    {
     "name": "stdout",
     "output_type": "stream",
     "text": [
      "MoviePy - Done.\n",
      "Moviepy - Writing video videos\\..\\optimize_chunks\\chunk_0010_0020.mp4\n",
      "\n"
     ]
    },
    {
     "name": "stderr",
     "output_type": "stream",
     "text": [
      "                                                              \r"
     ]
    },
    {
     "name": "stdout",
     "output_type": "stream",
     "text": [
      "Moviepy - Done !\n",
      "Moviepy - video ready videos\\..\\optimize_chunks\\chunk_0010_0020.mp4\n",
      "MoviePy - Writing audio in videos\\..\\optimize_chunks\\chunk_0010_0020.wav\n"
     ]
    },
    {
     "name": "stderr",
     "output_type": "stream",
     "text": [
      "                                                                \r"
     ]
    },
    {
     "name": "stdout",
     "output_type": "stream",
     "text": [
      "MoviePy - Done.\n",
      "Moviepy - Building video videos\\..\\optimize_chunks\\chunk_0020_0030.mp4.\n",
      "MoviePy - Writing audio in chunk_0020_0030TEMP_MPY_wvf_snd.mp3\n"
     ]
    },
    {
     "name": "stderr",
     "output_type": "stream",
     "text": [
      "                                                                  "
     ]
    },
    {
     "name": "stdout",
     "output_type": "stream",
     "text": [
      "MoviePy - Done.\n",
      "Moviepy - Writing video videos\\..\\optimize_chunks\\chunk_0020_0030.mp4\n",
      "\n"
     ]
    },
    {
     "name": "stderr",
     "output_type": "stream",
     "text": [
      "                                                              \r"
     ]
    },
    {
     "name": "stdout",
     "output_type": "stream",
     "text": [
      "Moviepy - Done !\n",
      "Moviepy - video ready videos\\..\\optimize_chunks\\chunk_0020_0030.mp4\n",
      "MoviePy - Writing audio in videos\\..\\optimize_chunks\\chunk_0020_0030.wav\n"
     ]
    },
    {
     "name": "stderr",
     "output_type": "stream",
     "text": [
      "                                                                \r"
     ]
    },
    {
     "name": "stdout",
     "output_type": "stream",
     "text": [
      "MoviePy - Done.\n",
      "Moviepy - Building video videos\\..\\optimize_chunks\\chunk_0030_0040.mp4.\n",
      "MoviePy - Writing audio in chunk_0030_0040TEMP_MPY_wvf_snd.mp3\n"
     ]
    },
    {
     "name": "stderr",
     "output_type": "stream",
     "text": [
      "                                                                  "
     ]
    },
    {
     "name": "stdout",
     "output_type": "stream",
     "text": [
      "MoviePy - Done.\n",
      "Moviepy - Writing video videos\\..\\optimize_chunks\\chunk_0030_0040.mp4\n",
      "\n"
     ]
    },
    {
     "name": "stderr",
     "output_type": "stream",
     "text": [
      "                                                              \r"
     ]
    },
    {
     "name": "stdout",
     "output_type": "stream",
     "text": [
      "Moviepy - Done !\n",
      "Moviepy - video ready videos\\..\\optimize_chunks\\chunk_0030_0040.mp4\n",
      "MoviePy - Writing audio in videos\\..\\optimize_chunks\\chunk_0030_0040.wav\n"
     ]
    },
    {
     "name": "stderr",
     "output_type": "stream",
     "text": [
      "                                                                \r"
     ]
    },
    {
     "name": "stdout",
     "output_type": "stream",
     "text": [
      "MoviePy - Done.\n",
      "Moviepy - Building video videos\\..\\optimize_chunks\\chunk_0040_0050.mp4.\n",
      "MoviePy - Writing audio in chunk_0040_0050TEMP_MPY_wvf_snd.mp3\n"
     ]
    },
    {
     "name": "stderr",
     "output_type": "stream",
     "text": [
      "                                                                  \r"
     ]
    },
    {
     "name": "stdout",
     "output_type": "stream",
     "text": [
      "MoviePy - Done.\n",
      "Moviepy - Writing video videos\\..\\optimize_chunks\\chunk_0040_0050.mp4\n",
      "\n"
     ]
    },
    {
     "name": "stderr",
     "output_type": "stream",
     "text": [
      "                                                              \r"
     ]
    },
    {
     "name": "stdout",
     "output_type": "stream",
     "text": [
      "Moviepy - Done !\n",
      "Moviepy - video ready videos\\..\\optimize_chunks\\chunk_0040_0050.mp4\n",
      "MoviePy - Writing audio in videos\\..\\optimize_chunks\\chunk_0040_0050.wav\n"
     ]
    },
    {
     "name": "stderr",
     "output_type": "stream",
     "text": [
      "                                                                \r"
     ]
    },
    {
     "name": "stdout",
     "output_type": "stream",
     "text": [
      "MoviePy - Done.\n",
      "Moviepy - Building video videos\\..\\optimize_chunks\\chunk_0050_0060.mp4.\n",
      "MoviePy - Writing audio in chunk_0050_0060TEMP_MPY_wvf_snd.mp3\n"
     ]
    },
    {
     "name": "stderr",
     "output_type": "stream",
     "text": [
      "                                                                  \r"
     ]
    },
    {
     "name": "stdout",
     "output_type": "stream",
     "text": [
      "MoviePy - Done.\n",
      "Moviepy - Writing video videos\\..\\optimize_chunks\\chunk_0050_0060.mp4\n",
      "\n"
     ]
    },
    {
     "name": "stderr",
     "output_type": "stream",
     "text": [
      "                                                              \r"
     ]
    },
    {
     "name": "stdout",
     "output_type": "stream",
     "text": [
      "Moviepy - Done !\n",
      "Moviepy - video ready videos\\..\\optimize_chunks\\chunk_0050_0060.mp4\n",
      "MoviePy - Writing audio in videos\\..\\optimize_chunks\\chunk_0050_0060.wav\n"
     ]
    },
    {
     "name": "stderr",
     "output_type": "stream",
     "text": [
      "                                                                \r"
     ]
    },
    {
     "name": "stdout",
     "output_type": "stream",
     "text": [
      "MoviePy - Done.\n",
      "Moviepy - Building video videos\\..\\optimize_chunks\\chunk_0060_0063.mp4.\n",
      "MoviePy - Writing audio in chunk_0060_0063TEMP_MPY_wvf_snd.mp3\n"
     ]
    },
    {
     "name": "stderr",
     "output_type": "stream",
     "text": [
      "                                                                 \r"
     ]
    },
    {
     "name": "stdout",
     "output_type": "stream",
     "text": [
      "MoviePy - Done.\n",
      "Moviepy - Writing video videos\\..\\optimize_chunks\\chunk_0060_0063.mp4\n",
      "\n"
     ]
    },
    {
     "name": "stderr",
     "output_type": "stream",
     "text": [
      "                                                            \r"
     ]
    },
    {
     "name": "stdout",
     "output_type": "stream",
     "text": [
      "Moviepy - Done !\n",
      "Moviepy - video ready videos\\..\\optimize_chunks\\chunk_0060_0063.mp4\n",
      "MoviePy - Writing audio in videos\\..\\optimize_chunks\\chunk_0060_0063.wav\n"
     ]
    },
    {
     "name": "stderr",
     "output_type": "stream",
     "text": [
      "                                                                 "
     ]
    },
    {
     "name": "stdout",
     "output_type": "stream",
     "text": [
      "MoviePy - Done.\n"
     ]
    },
    {
     "name": "stderr",
     "output_type": "stream",
     "text": [
      "\r"
     ]
    },
    {
     "name": "stdout",
     "output_type": "stream",
     "text": [
      "Transcription for optimize completed and saved in videos\\..\\optimize_chunks\n",
      "Moviepy - Building video videos\\..\\pills_chunks\\chunk_0000_0008.mp4.\n",
      "MoviePy - Writing audio in chunk_0000_0008TEMP_MPY_wvf_snd.mp3\n"
     ]
    },
    {
     "name": "stderr",
     "output_type": "stream",
     "text": [
      "                                                                    \r"
     ]
    },
    {
     "name": "stdout",
     "output_type": "stream",
     "text": [
      "MoviePy - Done.\n",
      "Moviepy - Writing video videos\\..\\pills_chunks\\chunk_0000_0008.mp4\n",
      "\n"
     ]
    },
    {
     "name": "stderr",
     "output_type": "stream",
     "text": [
      "                                                              \r"
     ]
    },
    {
     "name": "stdout",
     "output_type": "stream",
     "text": [
      "Moviepy - Done !\n",
      "Moviepy - video ready videos\\..\\pills_chunks\\chunk_0000_0008.mp4\n",
      "MoviePy - Writing audio in videos\\..\\pills_chunks\\chunk_0000_0008.wav\n"
     ]
    },
    {
     "name": "stderr",
     "output_type": "stream",
     "text": [
      "                                                                \r"
     ]
    },
    {
     "name": "stdout",
     "output_type": "stream",
     "text": [
      "MoviePy - Done.\n",
      "Transcription for pills completed and saved in videos\\..\\pills_chunks\n",
      "Moviepy - Building video videos\\..\\sandwiches_chunks\\chunk_0000_0010.mp4.\n",
      "MoviePy - Writing audio in chunk_0000_0010TEMP_MPY_wvf_snd.mp3\n"
     ]
    },
    {
     "name": "stderr",
     "output_type": "stream",
     "text": [
      "                                                                  \r"
     ]
    },
    {
     "name": "stdout",
     "output_type": "stream",
     "text": [
      "MoviePy - Done.\n",
      "Moviepy - Writing video videos\\..\\sandwiches_chunks\\chunk_0000_0010.mp4\n",
      "\n"
     ]
    },
    {
     "name": "stderr",
     "output_type": "stream",
     "text": [
      "                                                              \r"
     ]
    },
    {
     "name": "stdout",
     "output_type": "stream",
     "text": [
      "Moviepy - Done !\n",
      "Moviepy - video ready videos\\..\\sandwiches_chunks\\chunk_0000_0010.mp4\n",
      "MoviePy - Writing audio in videos\\..\\sandwiches_chunks\\chunk_0000_0010.wav\n"
     ]
    },
    {
     "name": "stderr",
     "output_type": "stream",
     "text": [
      "                                                                \r"
     ]
    },
    {
     "name": "stdout",
     "output_type": "stream",
     "text": [
      "MoviePy - Done.\n",
      "Moviepy - Building video videos\\..\\sandwiches_chunks\\chunk_0010_0020.mp4.\n",
      "MoviePy - Writing audio in chunk_0010_0020TEMP_MPY_wvf_snd.mp3\n"
     ]
    },
    {
     "name": "stderr",
     "output_type": "stream",
     "text": [
      "                                                                  "
     ]
    },
    {
     "name": "stdout",
     "output_type": "stream",
     "text": [
      "MoviePy - Done."
     ]
    },
    {
     "name": "stderr",
     "output_type": "stream",
     "text": [
      "\r"
     ]
    },
    {
     "name": "stdout",
     "output_type": "stream",
     "text": [
      "\n",
      "Moviepy - Writing video videos\\..\\sandwiches_chunks\\chunk_0010_0020.mp4\n",
      "\n"
     ]
    },
    {
     "name": "stderr",
     "output_type": "stream",
     "text": [
      "                                                              \r"
     ]
    },
    {
     "name": "stdout",
     "output_type": "stream",
     "text": [
      "Moviepy - Done !\n",
      "Moviepy - video ready videos\\..\\sandwiches_chunks\\chunk_0010_0020.mp4\n",
      "MoviePy - Writing audio in videos\\..\\sandwiches_chunks\\chunk_0010_0020.wav\n"
     ]
    },
    {
     "name": "stderr",
     "output_type": "stream",
     "text": [
      "                                                                \r"
     ]
    },
    {
     "name": "stdout",
     "output_type": "stream",
     "text": [
      "MoviePy - Done.\n",
      "Moviepy - Building video videos\\..\\sandwiches_chunks\\chunk_0020_0028.mp4.\n",
      "MoviePy - Writing audio in chunk_0020_0028TEMP_MPY_wvf_snd.mp3\n"
     ]
    },
    {
     "name": "stderr",
     "output_type": "stream",
     "text": [
      "                                                                  \r"
     ]
    },
    {
     "name": "stdout",
     "output_type": "stream",
     "text": [
      "MoviePy - Done.\n",
      "Moviepy - Writing video videos\\..\\sandwiches_chunks\\chunk_0020_0028.mp4\n",
      "\n"
     ]
    },
    {
     "name": "stderr",
     "output_type": "stream",
     "text": [
      "                                                              \r"
     ]
    },
    {
     "name": "stdout",
     "output_type": "stream",
     "text": [
      "Moviepy - Done !\n",
      "Moviepy - video ready videos\\..\\sandwiches_chunks\\chunk_0020_0028.mp4\n",
      "MoviePy - Writing audio in videos\\..\\sandwiches_chunks\\chunk_0020_0028.wav\n"
     ]
    },
    {
     "name": "stderr",
     "output_type": "stream",
     "text": [
      "                                                                \r"
     ]
    },
    {
     "name": "stdout",
     "output_type": "stream",
     "text": [
      "MoviePy - Done.\n",
      "Transcription for sandwiches completed and saved in videos\\..\\sandwiches_chunks\n"
     ]
    }
   ],
   "source": [
    "import os\n",
    "import json\n",
    "from moviepy.video.io.VideoFileClip import VideoFileClip\n",
    "import speech_recognition as sr\n",
    "\n",
    "def split_and_save_video_chunks(video_path, chunk_length, output_dir):\n",
    "    with VideoFileClip(video_path) as video:\n",
    "        duration = int(video.duration)\n",
    "        for i in range(0, duration, chunk_length):\n",
    "            start = i\n",
    "            end = min(i + chunk_length, duration)\n",
    "            chunk = video.subclip(start, end)\n",
    "            chunk_path = os.path.join(output_dir, f\"chunk_{start:04d}_{end:04d}.mp4\")\n",
    "            chunk.write_videofile(chunk_path, codec=\"libx264\")\n",
    "            yield chunk, start, end\n",
    "\n",
    "def extract_and_transcribe(video_clip, start, end, recognizer, output_dir):\n",
    "    audio_path = os.path.join(output_dir, f\"chunk_{start:04d}_{end:04d}.wav\")\n",
    "    video_clip.audio.write_audiofile(audio_path)\n",
    "\n",
    "    with sr.AudioFile(audio_path) as source:\n",
    "        audio_data = recognizer.record(source)\n",
    "        try:\n",
    "            text = recognizer.recognize_google(audio_data)\n",
    "            return text\n",
    "        except sr.UnknownValueError:\n",
    "            return \"Audio was not understood\"\n",
    "        except sr.RequestError:\n",
    "            return \"Request failed\"\n",
    "\n",
    "def process_videos_in_directory(directory):\n",
    "    recognizer = sr.Recognizer()\n",
    "    for filename in os.listdir(directory):\n",
    "        if filename.endswith(\".mp4\"):\n",
    "            video_path = os.path.join(directory, filename)\n",
    "            video_name = os.path.splitext(filename)[0]\n",
    "            # Creating the output directory outside the input directory\n",
    "            output_dir = os.path.join(directory, '..', video_name + '_chunks')\n",
    "            os.makedirs(output_dir, exist_ok=True)\n",
    "\n",
    "            all_transcripts = {}\n",
    "            for video_clip, start, end in split_and_save_video_chunks(video_path, 10, output_dir):\n",
    "                transcript = extract_and_transcribe(video_clip, start, end, recognizer, output_dir)\n",
    "                all_transcripts[f\"chunk_{start:04d}_{end:04d}\"] = transcript\n",
    "\n",
    "            json_path = os.path.join(output_dir, 'full_transcript.json')\n",
    "            with open(json_path, 'w') as json_file:\n",
    "                json.dump(all_transcripts, json_file, indent=4)\n",
    "\n",
    "            print(f\"Transcription for {video_name} completed and saved in {output_dir}\")\n",
    "\n",
    "# Usage\n",
    "directory_path = \"videos\"\n",
    "process_videos_in_directory(directory_path)\n"
   ]
  }
 ],
 "metadata": {
  "kernelspec": {
   "display_name": "venv",
   "language": "python",
   "name": "python3"
  },
  "language_info": {
   "codemirror_mode": {
    "name": "ipython",
    "version": 3
   },
   "file_extension": ".py",
   "mimetype": "text/x-python",
   "name": "python",
   "nbconvert_exporter": "python",
   "pygments_lexer": "ipython3",
   "version": "3.11.4"
  }
 },
 "nbformat": 4,
 "nbformat_minor": 2
}
