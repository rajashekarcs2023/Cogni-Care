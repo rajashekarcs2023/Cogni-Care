{
 "cells": [
  {
   "cell_type": "code",
   "execution_count": 1,
   "metadata": {},
   "outputs": [],
   "source": [
    "import base64\n",
    "import requests\n",
    "import openai\n",
    "import os\n",
    "import json"
   ]
  },
  {
   "cell_type": "code",
   "execution_count": 2,
   "metadata": {},
   "outputs": [],
   "source": [
    "openai.api_type = \"azure\"\n",
    "openai.api_key = '252c6c79a5da4a80a61e54d315ba1fed'\n",
    "openai.api_base = 'https://api.umgpt.umich.edu/azure-openai-api/ptu'\n",
    "openai.api_version = '2023-03-15-preview'"
   ]
  },
  {
   "cell_type": "code",
   "execution_count": 4,
   "metadata": {},
   "outputs": [],
   "source": [
    "for folder in os.listdir(os.getcwd() + \"\\\\videos\\\\\"):\n",
    "    for folder2 in os.listdir(os.getcwd() + \"\\\\vid_summary\" + \"\\\\\" + folder.split(\".\")[0] + \"_chunks\"):\n",
    "        try:\n",
    "            os.mkdir(os.getcwd() + \"\\\\summary\\\\\" + folder.split(\".\")[0] + \"\\\\\" + folder2)\n",
    "        except:\n",
    "            pass"
   ]
  },
  {
   "cell_type": "code",
   "execution_count": 3,
   "metadata": {},
   "outputs": [],
   "source": [
    "def combine(VIDEO, TRANSCRIPTION):\n",
    "    response = openai.ChatCompletion.create(\n",
    "            engine='gpt-4',\n",
    "            messages=[\n",
    "                {\"role\": \"system\", \"content\": \"You are a helpful assistant.\"},\n",
    "                {\"role\": \"user\", \"content\": f\"Can you combine the following video description and video transcript to describe what is happening in the scene: Video description: {VIDEO} Video transcription: {TRANSCRIPTION}\"}\n",
    "            ]\n",
    "        )\n",
    "    return response\n"
   ]
  },
  {
   "cell_type": "code",
   "execution_count": 6,
   "metadata": {},
   "outputs": [],
   "source": [
    "folders = os.listdir(os.getcwd() + \"\\\\vid_summary\\\\\")\n",
    "for folder1 in folders:\n",
    "    for folder2 in os.listdir(os.getcwd() + \"\\\\vid_summary\\\\\" + folder1):\n",
    "        for file in os.listdir(os.getcwd() + \"\\\\vid_summary\\\\\" + folder1 + \"\\\\\" + folder2):\n",
    "            VIDEO = open(os.getcwd() + \"\\\\vid_summary\\\\\" + folder1 + \"\\\\\" + folder2 + \"\\\\\" + file, \"r\").read()\n",
    "            TRANSCRIPTION = \"\"\n",
    "            with open(os.getcwd() + \"\\\\video_chunks\\\\\" + folder1 + \"\\\\\" + \"full_transcript.json\") as file:\n",
    "                t = json.load(file)\n",
    "                for key in t:\n",
    "                    TRANSCRIPTION += t[key] + \"\\n\"\n",
    "            \n",
    "            with open(os.getcwd() + \"\\\\summary\\\\\" + folder1.split(\"_\")[0] + \"\\\\\" + folder2 + \".json\", \"w\") as file:\n",
    "                file.write(combine(VIDEO, TRANSCRIPTION)['choices'][0]['message']['content'])\n",
    "            "
   ]
  },
  {
   "cell_type": "code",
   "execution_count": 4,
   "metadata": {},
   "outputs": [],
   "source": [
    "def generate_questions(summary):\n",
    "    response = openai.ChatCompletion.create(\n",
    "            engine='gpt-4',\n",
    "            messages=[\n",
    "                {\"role\": \"system\", \"content\": \"You are a helpful assistant.\"},\n",
    "                {\"role\": \"user\", \"content\": f\"Given the summary of a memory, generate an answerable question that is meant to jog the recorders memory. Summary {summary}\"}\n",
    "            ]\n",
    "        )\n",
    "    return response['choices'][0]['message']['content']"
   ]
  },
  {
   "cell_type": "code",
   "execution_count": 5,
   "metadata": {},
   "outputs": [],
   "source": [
    "def generate_answer(summary, question):\n",
    "    response = openai.ChatCompletion.create(\n",
    "            engine='gpt-4',\n",
    "            messages=[\n",
    "                {\"role\": \"system\", \"content\": \"You are a helpful assistant.\"},\n",
    "                {\"role\": \"user\", \"content\": f\"Given the summary of a memory and a question, find the answer. Summary: {summary} Question: {question}\"}\n",
    "            ]\n",
    "        )\n",
    "    return response['choices'][0]['message']['content']"
   ]
  },
  {
   "cell_type": "code",
   "execution_count": 9,
   "metadata": {},
   "outputs": [],
   "source": [
    "qas = []\n",
    "for folder1 in os.listdir(os.getcwd() + \"\\\\summary\\\\\"):\n",
    "    for file in os.listdir(os.getcwd() + \"\\\\summary\\\\\" + folder1.split(\"_\")[0]):\n",
    "        with open(os.getcwd() + \"\\\\summary\\\\\" + folder1.split(\"_\")[0] + \"\\\\\" + file, \"r\") as read:\n",
    "            summary = read.read()\n",
    "            question = generate_questions(summary)\n",
    "            answer = generate_answer(summary, question)\n",
    "            qas.append({\n",
    "                'question': question,\n",
    "                'video': \"video_chunks\\\\\" + folder1 + \"_chunks\\\\\" + file.split(\".\")[0] + \".mp4\",\n",
    "                'answer': answer\n",
    "            })\n",
    "\n",
    "with open(\"qas.json\", \"w\") as file:\n",
    "    json.dump(qas, file)"
   ]
  },
  {
   "cell_type": "code",
   "execution_count": null,
   "metadata": {},
   "outputs": [],
   "source": []
  }
 ],
 "metadata": {
  "kernelspec": {
   "display_name": "venv",
   "language": "python",
   "name": "python3"
  },
  "language_info": {
   "codemirror_mode": {
    "name": "ipython",
    "version": 3
   },
   "file_extension": ".py",
   "mimetype": "text/x-python",
   "name": "python",
   "nbconvert_exporter": "python",
   "pygments_lexer": "ipython3",
   "version": "3.11.4"
  }
 },
 "nbformat": 4,
 "nbformat_minor": 2
}
