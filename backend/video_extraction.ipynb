{
 "cells": [
  {
   "cell_type": "code",
   "execution_count": 4,
   "metadata": {},
   "outputs": [],
   "source": [
    "import cv2\n",
    "import os\n",
    "import time"
   ]
  },
  {
   "cell_type": "code",
   "execution_count": 34,
   "metadata": {},
   "outputs": [
    {
     "name": "stdout",
     "output_type": "stream",
     "text": [
      "capitalone\n",
      "optimize\n",
      "sandwiches\n"
     ]
    }
   ],
   "source": [
    "videos = os.listdir(os.getcwd().replace(\"backend\", \"\")+ \"\\\\videos\")\n",
    "for ele in videos:\n",
    "    print(ele.split(\".\")[0])\n",
    "    os.mkdir(os.getcwd()+\"\\\\video_chunks\\\\\" + ele.split(\".\")[0])"
   ]
  },
  {
   "cell_type": "code",
   "execution_count": 15,
   "metadata": {},
   "outputs": [],
   "source": [
    "step = 2\n",
    "frames_count = 3\n",
    "cam = cv2.VideoCapture(\"C:\\Krish\\Coding\\mhacks\\mhacks-lunch-edited.mp4\")\n",
    "\n",
    "currentframe = 0\n",
    "frame_per_second = cam.get(cv2.CAP_PROP_FPS) \n",
    "frames_captured = 0"
   ]
  },
  {
   "cell_type": "code",
   "execution_count": 16,
   "metadata": {},
   "outputs": [],
   "source": [
    "while (True):\n",
    "    ret, frame = cam.read()\n",
    "    if ret:\n",
    "        if currentframe > (step*frame_per_second):  \n",
    "            currentframe = 0\n",
    "            name = 'C:\\Krish\\Coding\\mhacks\\\\backend\\screenshots\\\\' + str(frames_captured) + '.jpg'\n",
    "            cv2.imwrite(name, frame)            \n",
    "            frames_captured+=1\n",
    "            if frames_captured>frames_count-1:\n",
    "                ret = False\n",
    "        currentframe += 1           \n",
    "    if ret==False:\n",
    "        break\n",
    "cam.release()\n",
    "cv2.destroyAllWindows()"
   ]
  }
 ],
 "metadata": {
  "kernelspec": {
   "display_name": "venv",
   "language": "python",
   "name": "python3"
  },
  "language_info": {
   "codemirror_mode": {
    "name": "ipython",
    "version": 3
   },
   "file_extension": ".py",
   "mimetype": "text/x-python",
   "name": "python",
   "nbconvert_exporter": "python",
   "pygments_lexer": "ipython3",
   "version": "3.11.4"
  }
 },
 "nbformat": 4,
 "nbformat_minor": 2
}
